{
 "cells": [
  {
   "cell_type": "code",
   "execution_count": 3,
   "metadata": {},
   "outputs": [],
   "source": [
    "import pandas as pd\n",
    "import pickle\n",
    "from sklearn.preprocessing import LabelEncoder\n",
    "\n",
    "# 1. Carica il dataset di training\n",
    "df = pd.read_csv(\"X.csv\")\n",
    "\n",
    "# Elenco delle colonne categoriali che vuoi label-encodare\n",
    "categorical_columns = [\n",
    "    \"Manufacturer\",\n",
    "    \"Model\",\n",
    "    \"Category\",\n",
    "    \"Wheel\",\n",
    "    \"Color\"\n",
    "]\n",
    "\n",
    "# 2. Creare un dizionario per salvare i vari LabelEncoder\n",
    "label_encoders = {}\n",
    "\n",
    "# Per ogni colonna categoriale, crea e addestra un LabelEncoder\n",
    "for col in categorical_columns:\n",
    "    # Trasforma la colonna in stringa e rimpiazza gli eventuali NaN\n",
    "    df[col] = df[col].astype(str).fillna(\"missing\")\n",
    "    \n",
    "    # Crea e addestra il LabelEncoder\n",
    "    le = LabelEncoder()\n",
    "    le.fit(df[col])\n",
    "    \n",
    "    # Salva il LabelEncoder nel dizionario usando come chiave il nome della colonna\n",
    "    label_encoders[col] = le\n",
    "\n",
    "# 3. Salva i LabelEncoder su file con pickle\n",
    "with open(\"label_encoders.pkl\", \"wb\") as f:\n",
    "    pickle.dump(label_encoders, f)\n"
   ]
  }
 ],
 "metadata": {
  "kernelspec": {
   "display_name": "base",
   "language": "python",
   "name": "python3"
  },
  "language_info": {
   "codemirror_mode": {
    "name": "ipython",
    "version": 3
   },
   "file_extension": ".py",
   "mimetype": "text/x-python",
   "name": "python",
   "nbconvert_exporter": "python",
   "pygments_lexer": "ipython3",
   "version": "3.12.8"
  }
 },
 "nbformat": 4,
 "nbformat_minor": 2
}
